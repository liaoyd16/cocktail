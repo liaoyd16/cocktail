{
 "cells": [
  {
   "cell_type": "code",
   "execution_count": 1,
   "metadata": {},
   "outputs": [],
   "source": [
    "import torch\n",
    "import torch.nn as nn\n",
    "import torch.nn.functional as F\n",
    "import torch.optim as optim\n",
    "from torch.utils.data import Dataset, DataLoader\n",
    "import torch.utils.data as data\n",
    "\n",
    "import torchvision\n",
    "import torchvision.transforms as transforms\n",
    "import torchvision.datasets as dset\n",
    "\n",
    "import matplotlib.pyplot as plt\n",
    "import pickle\n",
    "import os\n",
    "import json"
   ]
  },
  {
   "cell_type": "markdown",
   "metadata": {},
   "source": [
    "## Dataloader"
   ]
  },
  {
   "cell_type": "code",
   "execution_count": 74,
   "metadata": {},
   "outputs": [],
   "source": [
    "clean_dir = '/home/tk/Documents/clean/' \n",
    "mix_dir = '/home/tk/Documents/mix/' \n",
    "clean_label_dir = '/home/tk/Documents/clean_labels/' \n",
    "mix_label_dir = '/home/tk/Documents/mix_labels/' \n",
    "\n",
    "\n",
    "class MSourceDataSet(Dataset):\n",
    "    \n",
    "    def __init__(self, clean_dir, mix_dir, clean_label_dir, mix_label_dir):\n",
    "                \n",
    "        with open(clean_dir + 'clean1.json') as f:\n",
    "            clean0 = torch.Tensor(json.load(f))\n",
    "            \n",
    "        with open(mix_dir + 'mix1.json') as f:\n",
    "            mix0 = torch.Tensor(json.load(f))\n",
    "        \n",
    "        with open(clean_label_dir + 'clean_label1.json') as f:\n",
    "            clean_label0 = torch.Tensor(json.load(f))\n",
    "            \n",
    "\n",
    "        with open(mix_label_dir + 'mix_label1.json') as f:\n",
    "            mix_label0 = torch.Tensor(json.load(f))\n",
    "        \n",
    "        \n",
    "        self.spec = torch.cat([clean0, mix0], 0)\n",
    "        self.label = torch.cat([clean_label0, mix_label0], 0)\n",
    "        \n",
    "    def __len__(self):\n",
    "        return self.spec.shape[0]\n",
    "\n",
    "                \n",
    "    def __getitem__(self, index): \n",
    "\n",
    "        spec = self.spec[index]\n",
    "        label = self.label[index]\n",
    "        return spec, label"
   ]
  },
  {
   "cell_type": "code",
   "execution_count": 78,
   "metadata": {},
   "outputs": [],
   "source": [
    "trainset = MSourceDataSet(clean_dir, mix_dir, clean_label_dir, mix_label_dir)\n",
    "\n",
    "trainloader = torch.utils.data.DataLoader(dataset = trainset,\n",
    "                                                batch_size = 4,\n",
    "                                                shuffle = True)\n",
    "\n",
    "# testloader = torch.utils.data.DataLoader(dataset = testset,\n",
    "#                                                batch_size = 4,\n",
    "#                                                shuffle = True)"
   ]
  },
  {
   "cell_type": "code",
   "execution_count": 79,
   "metadata": {},
   "outputs": [],
   "source": [
    "m = nn.MaxPool1d(3, stride =2)\n",
    "input = torch.randn(20,16,50)\n",
    "output = m(input)"
   ]
  },
  {
   "cell_type": "code",
   "execution_count": 83,
   "metadata": {},
   "outputs": [
    {
     "data": {
      "text/plain": [
       "24.5"
      ]
     },
     "execution_count": 83,
     "metadata": {},
     "output_type": "execute_result"
    }
   ],
   "source": [
    "(50 -1) /2 +1\n",
    "(50 - 3)/ 2+1"
   ]
  },
  {
   "cell_type": "code",
   "execution_count": 80,
   "metadata": {},
   "outputs": [
    {
     "name": "stdout",
     "output_type": "stream",
     "text": [
      "torch.Size([20, 16, 50])\n",
      "torch.Size([20, 16, 24])\n"
     ]
    }
   ],
   "source": [
    "print (input.shape)\n",
    "print (output.shape)"
   ]
  },
  {
   "cell_type": "code",
   "execution_count": 76,
   "metadata": {},
   "outputs": [
    {
     "name": "stdout",
     "output_type": "stream",
     "text": [
      "Net(\n",
      "  (fc1): Linear(in_features=16400, out_features=500, bias=True)\n",
      "  (fc2): Linear(in_features=500, out_features=256, bias=True)\n",
      "  (fc3): Linear(in_features=256, out_features=10, bias=True)\n",
      ")\n"
     ]
    }
   ],
   "source": [
    "class Net(nn.Module):\n",
    "    def __init__(self):\n",
    "        super(Net, self).__init__()\n",
    "        self.conv1 = nn.Conv2d(1025*16, 500, 3)\n",
    "        self.fc1 = nn.Linear(1025*16, 500)\n",
    "        self.fc2 = nn.Linear(500, 256)\n",
    "        self.fc3 = nn.Linear(256, 10)\n",
    "\n",
    "        \n",
    "    def forward(self, x):\n",
    "        x = x.view(-1, 1025*16)\n",
    "        x = F.relu(self.fc1(x))\n",
    "        x = F.relu(self.fc2(x))\n",
    "        x = torch.sigmoid(self.fc3(x))\n",
    "        \n",
    "        return x\n",
    "    \n",
    "model = Net()\n",
    "print (model)"
   ]
  },
  {
   "cell_type": "code",
   "execution_count": 54,
   "metadata": {},
   "outputs": [],
   "source": [
    "criterion = torch.nn.BCELoss()\n",
    "optimizer = torch.optim.SGD(model.parameters(), lr = 0.001, momentum = 0.03)"
   ]
  },
  {
   "cell_type": "code",
   "execution_count": 77,
   "metadata": {
    "scrolled": true
   },
   "outputs": [
    {
     "name": "stdout",
     "output_type": "stream",
     "text": [
      "[0,     0] loss: 0.009\n",
      "[1,     0] loss: 0.009\n",
      "[2,     0] loss: 0.009\n",
      "[3,     0] loss: 0.009\n",
      "[4,     0] loss: 0.009\n",
      "[5,     0] loss: 0.009\n",
      "[6,     0] loss: 0.009\n",
      "[7,     0] loss: 0.009\n",
      "[8,     0] loss: 0.009\n",
      "[9,     0] loss: 0.009\n"
     ]
    },
    {
     "name": "stderr",
     "output_type": "stream",
     "text": [
      "/home/tk/anaconda3/lib/python3.7/site-packages/torch/serialization.py:241: UserWarning: Couldn't retrieve source code for container of type Net. It won't be checked for correctness upon loading.\n",
      "  \"type \" + obj.__name__ + \". It won't be checked \"\n"
     ]
    }
   ],
   "source": [
    "model.train()\n",
    "for epoch in range(10):\n",
    "    running_loss = 0\n",
    "    \n",
    "    for i, data in enumerate(trainloader, 0):\n",
    "        \n",
    "        inputs, labels = data\n",
    "\n",
    "        optimizer.zero_grad()\n",
    "        \n",
    "        outputs = model(inputs)\n",
    "        loss = criterion(outputs, labels)\n",
    "        loss.backward()\n",
    "        optimizer.step()\n",
    "        \n",
    "#         if i % 2000 == 0:\n",
    "#             print (loss.item())\n",
    "        running_loss += loss.item()\n",
    "        if i % 1000 == 0:\n",
    "            print ('[%d, %5d] loss: %.3f' % (epoch, i, running_loss/ 1000))\n",
    "            running_loss = 0\n",
    "            \n",
    "torch.save(model, 'FeatureNet.pkl')"
   ]
  },
  {
   "cell_type": "code",
   "execution_count": null,
   "metadata": {},
   "outputs": [],
   "source": []
  }
 ],
 "metadata": {
  "kernelspec": {
   "display_name": "Python 3",
   "language": "python",
   "name": "python3"
  },
  "language_info": {
   "codemirror_mode": {
    "name": "ipython",
    "version": 3
   },
   "file_extension": ".py",
   "mimetype": "text/x-python",
   "name": "python",
   "nbconvert_exporter": "python",
   "pygments_lexer": "ipython3",
   "version": "3.7.0"
  }
 },
 "nbformat": 4,
 "nbformat_minor": 2
}
