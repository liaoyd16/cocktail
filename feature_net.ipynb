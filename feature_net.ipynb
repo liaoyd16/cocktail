{
 "cells": [
  {
   "cell_type": "code",
   "execution_count": 74,
   "metadata": {},
   "outputs": [],
   "source": [
    "import torch\n",
    "import torch.nn as nn\n",
    "import torch.nn.functional as F\n",
    "import torch.optim as optim\n",
    "from torch.utils.data import Dataset, DataLoader\n",
    "\n",
    "import torchvision\n",
    "import torchvision.transforms as transforms\n",
    "import torchvision.datasets as dset\n",
    "\n",
    "import matplotlib.pyplot as plt\n",
    "import pickle\n",
    "import os"
   ]
  },
  {
   "cell_type": "markdown",
   "metadata": {},
   "source": [
    "## Dataloader"
   ]
  },
  {
   "cell_type": "code",
   "execution_count": 70,
   "metadata": {},
   "outputs": [],
   "source": [
    "class MultipleSourceDataSet(Dataset):\n",
    "    \n",
    "    def __init__(self, json_file, root_dir, transform = None):\n",
    "        \n",
    "        with open(root_dir + 'block0.json') as f:\n",
    "            self.result = torch.Tensor(json.load(f))\n",
    "            \n",
    "        self.root_dir = root_dir\n",
    "        self.transform = transform\n",
    "        \n",
    "    def __len__(self):\n",
    "        return len(self.result[0])\n",
    "    \n",
    "    def __getitem__(self):\n",
    "        None"
   ]
  },
  {
   "cell_type": "code",
   "execution_count": null,
   "metadata": {},
   "outputs": [],
   "source": [
    "trainloader = "
   ]
  },
  {
   "cell_type": "code",
   "execution_count": 71,
   "metadata": {},
   "outputs": [],
   "source": [
    "import json\n",
    "root_dir = '/home/tk/Documents/blocks/'\n",
    "with open (root_dir + 'block0.json') as f:\n",
    "    result = json.load(f)\n",
    "    \n",
    "with open (root_dir + 'block1.json') as f:\n",
    "    result1 = json.load(f)"
   ]
  },
  {
   "cell_type": "code",
   "execution_count": 95,
   "metadata": {},
   "outputs": [
    {
     "data": {
      "text/plain": [
       "torch.Size([1025, 16])"
      ]
     },
     "execution_count": 95,
     "metadata": {},
     "output_type": "execute_result"
    }
   ],
   "source": [
    "x[0][1].shape"
   ]
  },
  {
   "cell_type": "code",
   "execution_count": 89,
   "metadata": {},
   "outputs": [
    {
     "data": {
      "text/plain": [
       "10"
      ]
     },
     "execution_count": 89,
     "metadata": {},
     "output_type": "execute_result"
    }
   ],
   "source": [
    "len(x)"
   ]
  },
  {
   "cell_type": "code",
   "execution_count": 90,
   "metadata": {},
   "outputs": [
    {
     "data": {
      "text/plain": [
       "tensor([[[3.1291e-05, 4.3020e-05, 5.3220e-05,  ..., 2.2634e-05,\n",
       "          2.1112e-05, 1.7486e-05],\n",
       "         [1.2902e-05, 3.2251e-05, 5.6963e-05,  ..., 2.2764e-05,\n",
       "          2.1121e-05, 1.6321e-05],\n",
       "         [1.1876e-05, 2.1136e-05, 3.1089e-05,  ..., 8.5252e-06,\n",
       "          7.9933e-06, 5.5230e-06],\n",
       "         ...,\n",
       "         [1.2824e-05, 1.0319e-05, 7.2870e-06,  ..., 1.4873e-06,\n",
       "          1.0757e-06, 1.2673e-06],\n",
       "         [5.4529e-06, 3.4304e-06, 1.6693e-06,  ..., 1.0329e-06,\n",
       "          5.8439e-07, 7.4221e-07],\n",
       "         [3.7904e-06, 3.4732e-06, 2.5887e-06,  ..., 4.2943e-07,\n",
       "          1.0680e-06, 1.6239e-06]],\n",
       "\n",
       "        [[2.9626e-06, 2.7148e-06, 2.5143e-06,  ..., 1.5013e-05,\n",
       "          1.2614e-05, 9.7410e-06],\n",
       "         [1.6276e-06, 1.7497e-06, 1.5690e-06,  ..., 1.5253e-05,\n",
       "          1.6289e-05, 1.3195e-05],\n",
       "         [8.1166e-08, 6.4897e-08, 1.2419e-07,  ..., 8.7676e-06,\n",
       "          9.5150e-06, 8.6584e-06],\n",
       "         ...,\n",
       "         [1.9601e-06, 4.9822e-07, 3.1249e-08,  ..., 2.0968e-05,\n",
       "          1.5951e-05, 1.2238e-05],\n",
       "         [1.3823e-06, 9.8341e-07, 7.2561e-07,  ..., 7.6483e-06,\n",
       "          2.1109e-06, 7.7468e-07],\n",
       "         [1.0167e-07, 1.2401e-08, 2.7492e-12,  ..., 9.2724e-06,\n",
       "          5.8091e-06, 2.7686e-06]],\n",
       "\n",
       "        [[3.1884e-02, 1.8336e-01, 1.5900e-01,  ..., 4.4068e-01,\n",
       "          2.5157e-01, 1.3736e-01],\n",
       "         [3.4110e+00, 3.0397e+00, 3.3682e+00,  ..., 2.5855e+00,\n",
       "          1.5491e+00, 7.8337e-01],\n",
       "         [4.8311e+00, 4.3053e+00, 2.9619e+00,  ..., 3.6493e+00,\n",
       "          3.6621e+00, 3.2734e+00],\n",
       "         ...,\n",
       "         [5.9928e-06, 9.9914e-06, 1.0603e-05,  ..., 3.2692e-06,\n",
       "          2.7307e-06, 3.8688e-06],\n",
       "         [1.2061e-05, 1.3767e-05, 1.3902e-05,  ..., 7.8782e-06,\n",
       "          3.9983e-06, 6.0583e-07],\n",
       "         [6.7442e-06, 1.0969e-05, 1.4623e-05,  ..., 4.9933e-06,\n",
       "          4.7491e-06, 4.6103e-06]],\n",
       "\n",
       "        ...,\n",
       "\n",
       "        [[1.2629e-01, 2.3057e-01, 3.1886e-01,  ..., 2.4808e-01,\n",
       "          4.1494e-01, 4.1808e-01],\n",
       "         [1.0206e+00, 6.2781e-01, 1.7986e-01,  ..., 2.6605e-01,\n",
       "          8.6116e-01, 1.7702e+00],\n",
       "         [8.6177e+00, 5.5127e+00, 3.4279e+00,  ..., 5.1591e+00,\n",
       "          3.7302e+00, 2.6418e+00],\n",
       "         ...,\n",
       "         [7.7905e-07, 1.0560e-06, 1.6755e-06,  ..., 3.4646e-06,\n",
       "          1.6027e-06, 5.6496e-07],\n",
       "         [3.7569e-08, 2.6823e-07, 3.2215e-07,  ..., 3.5852e-06,\n",
       "          1.8662e-06, 2.1648e-06],\n",
       "         [1.5915e-07, 3.9780e-08, 2.1916e-08,  ..., 7.9856e-06,\n",
       "          7.3778e-06, 6.4696e-06]],\n",
       "\n",
       "        [[3.9948e-02, 6.9590e-02, 8.9750e-02,  ..., 8.5270e-02,\n",
       "          9.2151e-02, 3.7352e-01],\n",
       "         [2.2810e-01, 4.4834e-01, 4.2943e-01,  ..., 4.0904e-01,\n",
       "          5.9030e-01, 9.4157e-02],\n",
       "         [3.2811e-01, 3.3728e-01, 1.1319e+00,  ..., 2.2960e+00,\n",
       "          1.4013e+00, 5.9796e-01],\n",
       "         ...,\n",
       "         [4.5003e-05, 4.5893e-05, 3.7389e-05,  ..., 9.5693e-07,\n",
       "          1.1630e-06, 1.3132e-06],\n",
       "         [3.5204e-05, 3.6667e-05, 3.5617e-05,  ..., 7.7555e-07,\n",
       "          3.8236e-07, 3.2696e-07],\n",
       "         [6.8255e-06, 2.5464e-06, 3.4814e-08,  ..., 1.1871e-08,\n",
       "          2.5360e-07, 6.3448e-07]],\n",
       "\n",
       "        [[8.2325e-02, 3.2777e-03, 7.4351e-02,  ..., 8.9182e-03,\n",
       "          1.1065e-02, 1.5346e-02],\n",
       "         [1.0593e-01, 1.5052e-01, 4.7363e-02,  ..., 7.2892e-03,\n",
       "          4.0946e-03, 4.4763e-03],\n",
       "         [4.7934e-01, 1.7755e+00, 2.0465e+00,  ..., 9.0371e-02,\n",
       "          7.5188e-02, 5.2051e-02],\n",
       "         ...,\n",
       "         [5.5291e-07, 9.0627e-07, 9.4898e-07,  ..., 1.0076e-05,\n",
       "          1.6085e-05, 2.0997e-05],\n",
       "         [5.5988e-06, 4.6449e-06, 3.5492e-06,  ..., 2.5659e-05,\n",
       "          2.2024e-05, 1.3912e-05],\n",
       "         [7.9895e-06, 7.0457e-06, 5.8222e-06,  ..., 1.4863e-05,\n",
       "          1.2176e-05, 8.7828e-06]]])"
      ]
     },
     "execution_count": 90,
     "metadata": {},
     "output_type": "execute_result"
    }
   ],
   "source": [
    "x[0]"
   ]
  },
  {
   "cell_type": "code",
   "execution_count": 17,
   "metadata": {},
   "outputs": [],
   "source": [
    "trans = transforms.Compose(\n",
    "    [transforms.ToTensor(),\n",
    "     transforms.Normalize((0.5,), (1.0,))\n",
    "    ])\n",
    "\n",
    "trainset = dset.MNIST(root = '../data', train = True, transform = trans, download = True)\n",
    "testset = dset.MNIST(root = '../data', train = False, transform = trans)"
   ]
  },
  {
   "cell_type": "code",
   "execution_count": 18,
   "metadata": {},
   "outputs": [],
   "source": [
    "trainloader = torch.utils.data.DataLoader(dataset = trainset,\n",
    "                                                batch_size = 8,\n",
    "                                                shuffle = True)\n",
    "\n",
    "testloader = torch.utils.data.DataLoader(dataset = testset,\n",
    "                                               batch_size = 8,\n",
    "                                               shuffle = True)"
   ]
  },
  {
   "cell_type": "code",
   "execution_count": 24,
   "metadata": {},
   "outputs": [
    {
     "name": "stdout",
     "output_type": "stream",
     "text": [
      "Net(\n",
      "  (fc1): Linear(in_features=784, out_features=500, bias=True)\n",
      "  (fc2): Linear(in_features=500, out_features=256, bias=True)\n",
      "  (fc3): Linear(in_features=256, out_features=10, bias=True)\n",
      ")\n"
     ]
    }
   ],
   "source": [
    "class Net(nn.Module):\n",
    "    def __init__(self):\n",
    "        super(Net, self).__init__()\n",
    "        self.fc1 = nn.Linear(28*28, 500)\n",
    "        self.fc2 = nn.Linear(500, 256)\n",
    "        self.fc3 = nn.Linear(256, 10)\n",
    "\n",
    "        \n",
    "    def forward(self, x):\n",
    "        x = x.view(-1, 28*28)\n",
    "        x = F.relu(self.fc1(x))\n",
    "        x = F.relu(self.fc2(x))\n",
    "        x = self.fc3(x)\n",
    "        \n",
    "        return x\n",
    "    \n",
    "model = Net()\n",
    "print (model)"
   ]
  },
  {
   "cell_type": "code",
   "execution_count": 36,
   "metadata": {},
   "outputs": [],
   "source": [
    "criterion = torch.nn.CrossEntropyLoss()\n",
    "optimizer = torch.optim.SGD(model.parameters(), lr = 0.008, momentum = 0.03)"
   ]
  },
  {
   "cell_type": "code",
   "execution_count": null,
   "metadata": {},
   "outputs": [],
   "source": [
    "model.train()\n",
    "for epoch in range(10):\n",
    "    running_loss = 0\n",
    "    \n",
    "    for i, data in enumerate(trainloader, 0):\n",
    "        \n",
    "        inputs, labels = data\n",
    "#         print (data[0].shape)\n",
    "#         print (data[1].shape)\n",
    "        \n",
    "        optimizer.zero_grad()\n",
    "        \n",
    "        outputs = model(inputs)\n",
    "        loss = criterion(outputs, labels)\n",
    "        loss.backward()\n",
    "        optimizer.step()\n",
    "        \n",
    "#         if i % 2000 == 0:\n",
    "#             print (loss.item())\n",
    "        running_loss += loss.item()\n",
    "        if i % 1000 == 0:\n",
    "            print ('[%d, %5d] loss: %.3f' % (epoch, i, running_loss/ 1000))\n",
    "            running_loss = 0\n",
    "            \n",
    "torch.save(model, 'FeatureNet.pkl')"
   ]
  }
 ],
 "metadata": {
  "kernelspec": {
   "display_name": "Python 3",
   "language": "python",
   "name": "python3"
  },
  "language_info": {
   "codemirror_mode": {
    "name": "ipython",
    "version": 3
   },
   "file_extension": ".py",
   "mimetype": "text/x-python",
   "name": "python",
   "nbconvert_exporter": "python",
   "pygments_lexer": "ipython3",
   "version": "3.7.0"
  }
 },
 "nbformat": 4,
 "nbformat_minor": 2
}
